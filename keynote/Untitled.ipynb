{
 "cells": [
  {
   "cell_type": "code",
   "execution_count": null,
   "id": "263ca818",
   "metadata": {},
   "outputs": [],
   "source": [
    "seed = \"https://www.hs-albsig.de/suchergebnisse?tx_solr%5Bq%5D=search\"\n",
    "mutation_fuzzer = MutationFuzzer(seed=[seed])\n",
    "[mutation_fuzzer.fuzz() for i in range(5)]\n",
    "['https://www.hs-albsig.de/suchergebnisse?tx_solr%5Bq%5D=searchf'\n",
    "'hLtSs://kww.hR-aObsig.dz/PusSergebsdishje?tx_slölrerBq%5D!ReaTR'\n",
    "'Tt?ps:s/wiw.hssdaalbsiw.de/sRchergebEWisseWTgtx_solGD%5Bf%5Ds=s'\n",
    "'hSt?sR//wwrphs-albsUgwdE/such-ugeEGsbnisse?tRsolr%5Bq%5D=search'\n",
    "'https://www.hL-albsig.de/sasd?-ergebniRe?tx_ewlrew5Bq%5DewsRarch'\n",
    "'https://www.hs-albsig.de/suchergebnisse?tas_soasdr%5Bd5D=LeaESch']"
   ]
  },
  {
   "cell_type": "code",
   "execution_count": null,
   "id": "a5a464b0",
   "metadata": {},
   "outputs": [],
   "source": []
  },
  {
   "cell_type": "code",
   "execution_count": null,
   "id": "525ff0f2",
   "metadata": {},
   "outputs": [],
   "source": []
  }
 ],
 "metadata": {
  "kernelspec": {
   "display_name": "Python 3 (ipykernel)",
   "language": "python",
   "name": "python3"
  },
  "language_info": {
   "codemirror_mode": {
    "name": "ipython",
    "version": 3
   },
   "file_extension": ".py",
   "mimetype": "text/x-python",
   "name": "python",
   "nbconvert_exporter": "python",
   "pygments_lexer": "ipython3",
   "version": "3.7.13"
  }
 },
 "nbformat": 4,
 "nbformat_minor": 5
}
